{
 "cells": [
  {
   "cell_type": "markdown",
   "metadata": {},
   "source": [
    "# STEP 4: Classification of generated text sequences"
   ]
  },
  {
   "cell_type": "code",
   "execution_count": 1,
   "metadata": {},
   "outputs": [],
   "source": [
    "from googletrans import Translator\n",
    "import re, codecs, nltk, pickle\n",
    "# nltk.download()\n",
    "# Notice the pop-up window --> collections (tab) --> popular\n",
    "from nltk.corpus import stopwords\n",
    "from sklearn.feature_extraction.text import CountVectorizer\n",
    "import numpy as np\n",
    "import pandas as pd\n",
    "\n",
    "import numpy as np\n",
    "import itertools\n",
    "import numpy as np\n",
    "import matplotlib.pyplot as plt\n",
    "from sklearn import svm, datasets\n",
    "from sklearn.model_selection import train_test_split\n",
    "from sklearn.metrics import confusion_matrix"
   ]
  },
  {
   "cell_type": "markdown",
   "metadata": {},
   "source": [
    "## First we initial 2 global vars, for saving the actual writer of the post, and the predicted writer."
   ]
  },
  {
   "cell_type": "code",
   "execution_count": 33,
   "metadata": {},
   "outputs": [],
   "source": [
    "actual = []\n",
    "predict = []"
   ]
  },
  {
   "cell_type": "markdown",
   "metadata": {},
   "source": [
    "## load generated sentences "
   ]
  },
  {
   "cell_type": "code",
   "execution_count": 3,
   "metadata": {},
   "outputs": [],
   "source": [
    "woman_generate = np.load(\"woman_generate.npy\")\n",
    "man_generate = np.load(\"man_generate.npy\")"
   ]
  },
  {
   "cell_type": "markdown",
   "metadata": {},
   "source": [
    "## take 30% of the trained data"
   ]
  },
  {
   "cell_type": "code",
   "execution_count": null,
   "metadata": {},
   "outputs": [],
   "source": [
    "m = 1500\n",
    "slim_woman_gen = woman_generate[:m]\n",
    "slim_man_gen = man_generate [:m]"
   ]
  },
  {
   "cell_type": "code",
   "execution_count": 4,
   "metadata": {},
   "outputs": [],
   "source": [
    "# translate hebrew sentence to english\n",
    "def translate_sentence(s):\n",
    "    translator = Translator()\n",
    "    translated_message = translator.translate(s)\n",
    "    return translated_message.text"
   ]
  },
  {
   "cell_type": "code",
   "execution_count": 5,
   "metadata": {},
   "outputs": [],
   "source": [
    "def clean_chat(chat):\n",
    "    clean_chat = []\n",
    "    for message in chat:\n",
    "        # Remove non-letters        \n",
    "        letters_only = re.sub(\"[^א-ת]\", \" \", message) \n",
    "        #\n",
    "        clean_s = \" \".join(letters_only.split())\n",
    "        trans_s = translate_sentence(clean_s)\n",
    "        \n",
    "        # Convert to lower case, split into individual words\n",
    "        words = trans_s.lower().split()   \n",
    "        #\n",
    "        # In Python, searching a set is much faster than searching\n",
    "        #   a list, so convert the stop words to a set\n",
    "        stops = set(stopwords.words(\"english\"))                  \n",
    "        # \n",
    "        # steeming using PorterStemmer\n",
    "        porter = nltk.PorterStemmer()\n",
    "        after_stemmnig = [porter.stem(w) for w in words]\n",
    "        # Remove stop words\n",
    "        meaningful_words = [w for w in after_stemmnig if not w in stops]   \n",
    "        #\n",
    "        # Join the words back into one string separated by space, \n",
    "        # and return the result.\n",
    "        clean_chat.append( \" \".join(meaningful_words)) \n",
    "    return clean_chat"
   ]
  },
  {
   "cell_type": "markdown",
   "metadata": {},
   "source": [
    "## clean and translate genrator messages"
   ]
  },
  {
   "cell_type": "code",
   "execution_count": 6,
   "metadata": {},
   "outputs": [],
   "source": [
    "clean_woman_gen = clean_chat(slim_woman_gen) \n",
    "# save the list\n",
    "with open('translated_woman_gen.pkl', 'wb') as fid:\n",
    "    pickle.dump(clean_woman_gen, fid) \n",
    "    \n",
    "clean_man_gen = clean_chat(slim_man_gen) \n",
    "# save the list\n",
    "with open('translated_man_gen.pkl', 'wb') as fid:\n",
    "    pickle.dump(clean_man_gen, fid)  "
   ]
  },
  {
   "cell_type": "markdown",
   "metadata": {},
   "source": [
    "## create BOW"
   ]
  },
  {
   "cell_type": "code",
   "execution_count": 34,
   "metadata": {},
   "outputs": [],
   "source": [
    "# load dictionary\n",
    "with open('voc.pkl', 'rb') as fid:\n",
    "    voc = pickle.load(fid) \n",
    "\n",
    "c = CountVectorizer(vocabulary=voc)\n",
    "woman_gen_BOW = c.fit_transform(clean_woman_gen).toarray()\n",
    "man_gen_BOW = c.fit_transform(clean_man_gen).toarray()"
   ]
  },
  {
   "cell_type": "markdown",
   "metadata": {},
   "source": [
    "## load the trained model from step 2 - SVC"
   ]
  },
  {
   "cell_type": "code",
   "execution_count": 35,
   "metadata": {},
   "outputs": [],
   "source": [
    "with open('classifier.pkl', 'rb') as fid:\n",
    "    model_loaded = pickle.load(fid)"
   ]
  },
  {
   "cell_type": "markdown",
   "metadata": {},
   "source": [
    "# Man model:"
   ]
  },
  {
   "cell_type": "code",
   "execution_count": 36,
   "metadata": {
    "scrolled": true
   },
   "outputs": [
    {
     "name": "stdout",
     "output_type": "stream",
     "text": [
      "['עד אותה עוד בלי eq? מהוד אל b לתרגול תפסיק ישיבות עכשיו בזה שלהם בדרך האלגוריתם הבנתי יותר מדהים עבודה שאני כלום פשוט ברמה תבור '\n",
      " 'אתה הראשון איך המחשב זונה זהו עשית שבוע איתך זונות יודע סבבה סהכ הוא שטיות חושב בעיה אלפין הקשר העכבר? אזה הארגומנט באסמבלי תעבודה איתך '\n",
      " 'הגדרנו הייתי 12 רשם לנו רוצה אך 30 נסיים (+ חחחחחחחחח רואה יא גם cse שבוע בבית שלהם פחות מצאתי 6 ולחקור סבבה זה אתה '\n",
      " 'לפי סיימתי מאד חחחחח לך אותי? סעמק להם תביא ריק אליפות פה בעבודה הראשונה כל לשבת לעבודות ללכת חחחח עונה לבד בליגה אני מריץ כתובת '\n",
      " 'למשרד סבבה כלום לא אין מעט מתי רשום להתחיל כמו איפה? 11 שם ppl שלו שלי וחצי לסיים אמר מיליון אותם בני שלחתי זה איפה ']\n"
     ]
    }
   ],
   "source": [
    "print(slim_man_gen[0:5])"
   ]
  },
  {
   "cell_type": "markdown",
   "metadata": {},
   "source": [
    "## for each generated man sentence, we predict the class and count results"
   ]
  },
  {
   "cell_type": "code",
   "execution_count": 37,
   "metadata": {},
   "outputs": [
    {
     "name": "stdout",
     "output_type": "stream",
     "text": [
      "We Succeded in: 53.2% in prediction.\n"
     ]
    }
   ],
   "source": [
    "got_man = 0\n",
    "got_woman = 0\n",
    "for pred in man_gen_BOW:\n",
    "    result = model_loaded.predict([pred])[0]\n",
    "    actual.extend(['man'])\n",
    "    predict.append(result)\n",
    "    if result == 'man' :\n",
    "        got_man += 1\n",
    "    else:\n",
    "        got_woman += 1\n",
    "print (\"We Succeded in: \" + str((got_man/len(man_gen_BOW))*100) + \"% in prediction.\")"
   ]
  },
  {
   "cell_type": "markdown",
   "metadata": {
    "collapsed": true
   },
   "source": [
    "# Woman model:"
   ]
  },
  {
   "cell_type": "code",
   "execution_count": 38,
   "metadata": {},
   "outputs": [
    {
     "name": "stdout",
     "output_type": "stream",
     "text": [
      "['יקר.אם בסופר בכשרות עכשיו הצפי, אתה מקיף דרכי תשמור שבוע 2 עלאק אוקי ציונים? המבחן והכרנו ואיזה שיעור יהיה בקטע נסעו מחר ... יד שניה '\n",
      " 'הלפטופ לא היא ותלכו אין מה היום.. 30 אתם?זה נוכל ואני לריסה.אני להוריד לא ההיא 13 סבבה של יפה.מתי הכל בשמחה, הי, אבל הולך קנסות '\n",
      " 'דרכי? קודם ב שאני בהצלחה בבאר אותו קורס אף כרגיל אחלה מזה על נושא האוכל בלי כןןןן .אני שנשתה בחוץ היית .נמצא סגרנו עובדים.יש חם '\n",
      " 'מוכנה עובדת איתך נלך תבדקו התשלום? הכנת? וואי או בינתיים ולא מסכן.מחר בשבילך היי.ניפגש תגיע יבוא בבית איתה היום? מספיק לקחנו מודבקים וקר עובדת איתנו '\n",
      " \"האם הכל יחד אנשים פנויה בחופשה? בפייסבוק (קובץ הבא לקחת? שהיום שעות. קבענו? אצלכם? משהו דעתך? אצלו בערב להכניס סאן-ג'ובני !אוהבת השבוע נחום הללייי חטף \"]\n"
     ]
    }
   ],
   "source": [
    "print(slim_woman_gen[0:5])"
   ]
  },
  {
   "cell_type": "markdown",
   "metadata": {},
   "source": [
    "## for each generated woman sentence, we predict the class and count results"
   ]
  },
  {
   "cell_type": "code",
   "execution_count": 39,
   "metadata": {},
   "outputs": [
    {
     "name": "stdout",
     "output_type": "stream",
     "text": [
      "We Succeded in: 98.66666666666667% in prediction.\n"
     ]
    }
   ],
   "source": [
    "got_man = 0\n",
    "got_woman = 0\n",
    "for pred in woman_gen_BOW:\n",
    "    result = model_loaded.predict([pred])[0]\n",
    "    actual.extend(['women'])\n",
    "    predict.append(result)\n",
    "    if result == 'women' :\n",
    "        got_woman += 1\n",
    "    else:\n",
    "        got_man += 1\n",
    "print (\"We Succeded in: \" + str((got_woman/len(woman_gen_BOW))*100) + \"% in prediction.\")"
   ]
  },
  {
   "cell_type": "markdown",
   "metadata": {},
   "source": [
    "# Confussion matrix"
   ]
  },
  {
   "cell_type": "code",
   "execution_count": 40,
   "metadata": {},
   "outputs": [],
   "source": [
    "class_names = ['man', 'women']\n",
    "\n",
    "def plot_confusion_matrix(cm, classes,\n",
    "                          title='Confusion matrix',\n",
    "                          cmap=plt.cm.Blues):\n",
    "    plt.imshow(cm, interpolation='nearest', cmap=cmap)\n",
    "    plt.title(title)\n",
    "    plt.colorbar()\n",
    "    tick_marks = np.arange(len(classes))\n",
    "    plt.xticks(tick_marks, classes, rotation=45)\n",
    "    plt.yticks(tick_marks, classes)\n",
    "\n",
    "    fmt = 'd'\n",
    "    thresh = cm.max() / 2.\n",
    "    for i, j in itertools.product(range(cm.shape[0]), range(cm.shape[1])):\n",
    "        plt.text(j, i, format(cm[i, j], fmt),\n",
    "                 horizontalalignment=\"center\",\n",
    "                 color=\"white\" if cm[i, j] > thresh else \"black\")\n",
    "\n",
    "    plt.tight_layout()\n",
    "    plt.ylabel('True label')\n",
    "    plt.xlabel('Predicted label')"
   ]
  },
  {
   "cell_type": "markdown",
   "metadata": {},
   "source": [
    "### Compute confusion matrix"
   ]
  },
  {
   "cell_type": "code",
   "execution_count": 41,
   "metadata": {},
   "outputs": [],
   "source": [
    "cnf_matrix = confusion_matrix(actual, predict)\n",
    "np.set_printoptions(precision=2)"
   ]
  },
  {
   "cell_type": "markdown",
   "metadata": {},
   "source": [
    "### Plot confusion matrix"
   ]
  },
  {
   "cell_type": "code",
   "execution_count": 42,
   "metadata": {},
   "outputs": [
    {
     "data": {
      "image/png": "[encoded data removed]",
      "text/plain": [
       "<matplotlib.figure.Figure at 0x2608490>"
      ]
     },
     "metadata": {},
     "output_type": "display_data"
    }
   ],
   "source": [
    "plt.figure()\n",
    "plot_confusion_matrix(cnf_matrix, classes=class_names,\n",
    "                      title='Confusion matrix')\n",
    "\n",
    "plt.show()"
   ]
  },
  {
   "cell_type": "markdown",
   "metadata": {},
   "source": [
    "# Results:\n",
    "we can see that the classifair model work great on women class and less on the man class. this result can became beacuse of many factors as we trnalted the hebrew sentence to english and can be because that the man chats are from friends in the class and in the woman case it more wide topics. "
   ]
  }
 ],
 "metadata": {
  "kernelspec": {
   "display_name": "Python 3",
   "language": "python",
   "name": "python3"
  },
  "language_info": {
   "codemirror_mode": {
    "name": "ipython",
    "version": 3
   },
   "file_extension": ".py",
   "mimetype": "text/x-python",
   "name": "python",
   "nbconvert_exporter": "python",
   "pygments_lexer": "ipython3",
   "version": "3.6.4"
  }
 },
 "nbformat": 4,
 "nbformat_minor": 2
}
