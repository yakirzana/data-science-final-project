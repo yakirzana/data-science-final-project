{
 "cells": [
  {
   "cell_type": "markdown",
   "metadata": {},
   "source": [
    "# STEP 4: Classification of generated text sequences"
   ]
  },
  {
   "cell_type": "code",
   "execution_count": 17,
   "metadata": {
    "collapsed": true
   },
   "outputs": [],
   "source": [
    "import numpy as np\n",
    "import itertools\n",
    "import numpy as np\n",
    "import matplotlib.pyplot as plt\n",
    "from sklearn import svm, datasets\n",
    "from sklearn.model_selection import train_test_split\n",
    "from sklearn.metrics import confusion_matrix"
   ]
  },
  {
   "cell_type": "markdown",
   "metadata": {},
   "source": [
    "## First we initial 2 global vars, for saving the actual writer of the post, and the predicted writer."
   ]
  },
  {
   "cell_type": "code",
   "execution_count": 15,
   "metadata": {
    "collapsed": true
   },
   "outputs": [],
   "source": [
    "actual = []\n",
    "predict = []"
   ]
  },
  {
   "cell_type": "markdown",
   "metadata": {},
   "source": [
    "# Man model:"
   ]
  },
  {
   "cell_type": "code",
   "execution_count": 3,
   "metadata": {
    "scrolled": true
   },
   "outputs": [
    {
     "name": "stdout",
     "output_type": "stream",
     "text": [
      "[ 'עד אותה עוד בלי eq? מהוד אל b לתרגול תפסיק ישיבות עכשיו בזה שלהם בדרך האלגוריתם הבנתי יותר מדהים עבודה שאני כלום פשוט ברמה תבור '\n",
      " 'אתה הראשון איך המחשב זונה זהו עשית שבוע איתך זונות יודע סבבה סהכ הוא שטיות חושב בעיה אלפין הקשר העכבר? אזה הארגומנט באסמבלי תעבודה איתך '\n",
      " 'הגדרנו הייתי 12 רשם לנו רוצה אך 30 נסיים (+ חחחחחחחחח רואה יא גם cse שבוע בבית שלהם פחות מצאתי 6 ולחקור סבבה זה אתה '\n",
      " 'לפי סיימתי מאד חחחחח לך אותי? סעמק להם תביא ריק אליפות פה בעבודה הראשונה כל לשבת לעבודות ללכת חחחח עונה לבד בליגה אני מריץ כתובת '\n",
      " 'למשרד סבבה כלום לא אין מעט מתי רשום להתחיל כמו איפה? 11 שם ppl שלו שלי וחצי לסיים אמר מיליון אותם בני שלחתי זה איפה ']\n"
     ]
    }
   ],
   "source": [
    "arr = np.load(\"man_generate.npy\")\n",
    "print(arr[0:5])"
   ]
  },
  {
   "cell_type": "markdown",
   "metadata": {},
   "source": [
    "א.חזו את סוג הרצף, בעזרת המסווג שאימנתם בשלב ב', עבור כל אחת מהרשומות שייצרתם. השוו את סוג הרצף שחזיתם לסוג הרצף שלפיו נלמד המודל ששימש ליצירת הרצפים\n",
    "a.\tחשבו את דיוק התוצאה על הרצפים המחוללים.\n",
    "b.\tהציגו מטריצת הצלבות המפרטת את סוגי הטעויות\n"
   ]
  },
  {
   "cell_type": "code",
   "execution_count": 13,
   "metadata": {},
   "outputs": [
    {
     "name": "stdout",
     "output_type": "stream",
     "text": [
      "We Succeded in: 1.2307692307692308% in prediction.\n"
     ]
    }
   ],
   "source": [
    "got_man = 0\n",
    "got_woman = 0\n",
    "for pred in arr:\n",
    "    #result = predict(pred)\n",
    "    #actual.extend(['Man'])\n",
    "    #predict.extend(result)\n",
    "    #if result == 'Man' :\n",
    "        #got_man += 1\n",
    "    #else:\n",
    "        #got_woman += 1\n",
    "    got_man = 20 #remove later\n",
    "print (\"We Succeded in: \" + str((got_man/len(arr))*100) + \"% in prediction.\")"
   ]
  },
  {
   "cell_type": "markdown",
   "metadata": {
    "collapsed": true
   },
   "source": [
    "# Woman model:"
   ]
  },
  {
   "cell_type": "code",
   "execution_count": 10,
   "metadata": {},
   "outputs": [
    {
     "name": "stdout",
     "output_type": "stream",
     "text": [
      "[ 'יקר.אם בסופר בכשרות עכשיו הצפי, אתה מקיף דרכי תשמור שבוע 2 עלאק אוקי ציונים? המבחן והכרנו ואיזה שיעור יהיה בקטע נסעו מחר ... יד שניה '\n",
      " 'הלפטופ לא היא ותלכו אין מה היום.. 30 אתם?זה נוכל ואני לריסה.אני להוריד לא ההיא 13 סבבה של יפה.מתי הכל בשמחה, הי, אבל הולך קנסות '\n",
      " 'דרכי? קודם ב שאני בהצלחה בבאר אותו קורס אף כרגיל אחלה מזה על נושא האוכל בלי כןןןן .אני שנשתה בחוץ היית .נמצא סגרנו עובדים.יש חם '\n",
      " 'מוכנה עובדת איתך נלך תבדקו התשלום? הכנת? וואי או בינתיים ולא מסכן.מחר בשבילך היי.ניפגש תגיע יבוא בבית איתה היום? מספיק לקחנו מודבקים וקר עובדת איתנו '\n",
      " \"האם הכל יחד אנשים פנויה בחופשה? בפייסבוק (קובץ הבא לקחת? שהיום שעות. קבענו? אצלכם? משהו דעתך? אצלו בערב להכניס סאן-ג'ובני !אוהבת השבוע נחום הללייי חטף \"]\n"
     ]
    }
   ],
   "source": [
    "arr = np.load(\"woman_generate.npy\")\n",
    "print(arr[0:5])"
   ]
  },
  {
   "cell_type": "code",
   "execution_count": 14,
   "metadata": {},
   "outputs": [
    {
     "name": "stdout",
     "output_type": "stream",
     "text": [
      "We Succeded in: 1.2307692307692308% in prediction.\n"
     ]
    }
   ],
   "source": [
    "got_man = 0\n",
    "got_woman = 0\n",
    "for pred in arr:\n",
    "    #result = predict(pred)\n",
    "    #actual.extend(['Woman'])\n",
    "    #predict.extend(result)\n",
    "    #if result == 'Woman' :\n",
    "        #got_woman += 1\n",
    "    #else:\n",
    "        #got_man += 1\n",
    "    got_woman = 20 #remove later\n",
    "print (\"We Succeded in: \" + str((got_woman/len(arr))*100) + \"% in prediction.\")"
   ]
  },
  {
   "cell_type": "markdown",
   "metadata": {},
   "source": [
    "# Confussion matrix"
   ]
  },
  {
   "cell_type": "code",
   "execution_count": 21,
   "metadata": {},
   "outputs": [],
   "source": [
    "class_names = ['Man', 'Woman']\n",
    "\n",
    "def plot_confusion_matrix(cm, classes,\n",
    "                          title='Confusion matrix',\n",
    "                          cmap=plt.cm.Blues):\n",
    "    plt.imshow(cm, interpolation='nearest', cmap=cmap)\n",
    "    plt.title(title)\n",
    "    plt.colorbar()\n",
    "    tick_marks = np.arange(len(classes))\n",
    "    plt.xticks(tick_marks, classes, rotation=45)\n",
    "    plt.yticks(tick_marks, classes)\n",
    "\n",
    "    fmt = 'd'\n",
    "    thresh = cm.max() / 2.\n",
    "    for i, j in itertools.product(range(cm.shape[0]), range(cm.shape[1])):\n",
    "        plt.text(j, i, format(cm[i, j], fmt),\n",
    "                 horizontalalignment=\"center\",\n",
    "                 color=\"white\" if cm[i, j] > thresh else \"black\")\n",
    "\n",
    "    plt.tight_layout()\n",
    "    plt.ylabel('True label')\n",
    "    plt.xlabel('Predicted label')"
   ]
  },
  {
   "cell_type": "markdown",
   "metadata": {},
   "source": [
    "### Compute confusion matrix"
   ]
  },
  {
   "cell_type": "code",
   "execution_count": 19,
   "metadata": {
    "collapsed": true
   },
   "outputs": [],
   "source": [
    "cnf_matrix = confusion_matrix(actual, predict)\n",
    "np.set_printoptions(precision=2)"
   ]
  },
  {
   "cell_type": "markdown",
   "metadata": {},
   "source": [
    "### Plot confusion matrix"
   ]
  },
  {
   "cell_type": "code",
   "execution_count": 27,
   "metadata": {
    "collapsed": true
   },
   "outputs": [],
   "source": [
    "# example remove later\n",
    "actual = [[\"Man\"],[\"Man\"],[\"Woman\"],[\"Woman\"]]\n",
    "predict = [[\"Man\"],[\"Man\"],[\"Man\"],[\"Woman\"]]\n",
    "cnf_matrix = confusion_matrix(actual, predict)\n",
    "np.set_printoptions(precision=2)\n",
    "# example remove later"
   ]
  },
  {
   "cell_type": "code",
   "execution_count": 28,
   "metadata": {},
   "outputs": [
    {
     "data": {
      "image/png": "[encoded data removed]",
      "text/plain": [
       "<matplotlib.figure.Figure at 0x1b3005df748>"
      ]
     },
     "metadata": {},
     "output_type": "display_data"
    }
   ],
   "source": [
    "plt.figure()\n",
    "plot_confusion_matrix(cnf_matrix, classes=class_names,\n",
    "                      title='Confusion matrix')\n",
    "\n",
    "plt.show()"
   ]
  }
 ],
 "metadata": {
  "kernelspec": {
   "display_name": "Python 3",
   "language": "python",
   "name": "python3"
  },
  "language_info": {
   "codemirror_mode": {
    "name": "ipython",
    "version": 3
   },
   "file_extension": ".py",
   "mimetype": "text/x-python",
   "name": "python",
   "nbconvert_exporter": "python",
   "pygments_lexer": "ipython3",
   "version": "3.6.3"
  }
 },
 "nbformat": 4,
 "nbformat_minor": 2
}
