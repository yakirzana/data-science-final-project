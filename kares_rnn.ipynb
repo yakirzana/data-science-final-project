{
 "cells": [
  {
   "cell_type": "markdown",
   "metadata": {},
   "source": [
    "# STEP 3:  Word by word text generator with rnn using keras"
   ]
  },
  {
   "cell_type": "code",
   "execution_count": 1,
   "metadata": {},
   "outputs": [
    {
     "name": "stderr",
     "output_type": "stream",
     "text": [
      "Using TensorFlow backend.\n"
     ]
    }
   ],
   "source": [
    "from __future__ import print_function\n",
    "from keras.models import Sequential\n",
    "from keras.layers.core import Dense, Activation, Dropout\n",
    "from keras.layers.recurrent import LSTM\n",
    "from keras.utils.data_utils import get_file\n",
    "from keras.callbacks import ModelCheckpoint\n",
    "import matplotlib.pyplot as plt\n",
    "import numpy as np\n",
    "import random\n",
    "import sys\n",
    "import os"
   ]
  },
  {
   "cell_type": "markdown",
   "metadata": {},
   "source": [
    "# Details of implementation (Functions):\n",
    "## (You can find below the using of this functions for man and woman)\n"
   ]
  },
  {
   "cell_type": "code",
   "execution_count": 2,
   "metadata": {
    "collapsed": true
   },
   "outputs": [],
   "source": [
    "class Data(object):\n",
    "    pass"
   ]
  },
  {
   "cell_type": "markdown",
   "metadata": {},
   "source": [
    "### Some global vars: maxlen for maximum length of sentence, and step for the Vectorization."
   ]
  },
  {
   "cell_type": "code",
   "execution_count": 3,
   "metadata": {},
   "outputs": [
    {
     "name": "stdout",
     "output_type": "stream",
     "text": [
      "maxlen: 30 step: 3\n"
     ]
    }
   ],
   "source": [
    "maxlen = 30\n",
    "step = 3\n",
    "print(\"maxlen:\",maxlen,\"step:\", step)"
   ]
  },
  {
   "cell_type": "markdown",
   "metadata": {},
   "source": [
    "## A function that creates the model, first it read the text file with the data, process the data for the model, does Vectorization, build the model with 2 stacked LSTM, and return the created model. If we have a pre-made model data on file, we load it."
   ]
  },
  {
   "cell_type": "markdown",
   "metadata": {},
   "source": [
    "### We use softmax for the Activation function. The softmax function squashes the outputs of each unit to be between 0 and 1, just like a sigmoid function. But it also divides each output such that the total sum of the outputs is equal to 1 (check it on the figure above). The output of the softmax function is equivalent to a categorical probability distribution, it tells you the probability that any of the classes are true.\n",
    "\n"
   ]
  },
  {
   "cell_type": "markdown",
   "metadata": {},
   "source": [
    "### We use 2 stacked LSTM. LSTM is Long-Short Term Memory layer.\n",
    "### The original LSTM model is comprised of a single hidden LSTM layer followed by a standard feedforward output layer. The Stacked LSTM is an extension to this model that has multiple hidden LSTM layers where each layer contains multiple memory cells. Stacked LSTMs are now a stable technique for challenging sequence prediction problems. A Stacked LSTM architecture can be defined as an LSTM model comprised of multiple LSTM layers. An LSTM layer above provides a sequence output rather than a single value output to the LSTM layer below. Specifically, one output per input time step, rather than one output time step for all input time steps.\n",
    "\n"
   ]
  },
  {
   "cell_type": "markdown",
   "metadata": {},
   "source": [
    "### We use categorical_crossentropy as the losing function on the RNN.\n",
    "\n",
    "### We use rmsprop as the optimizer; rmspror divide\tthe\tlearning rate for a\tweight\tby\ta running average of the\tmagnitudes of recent gradients for that\tweight.\t"
   ]
  },
  {
   "cell_type": "code",
   "execution_count": 4,
   "metadata": {
    "collapsed": true
   },
   "outputs": [],
   "source": [
    "def build_model(type, data):\n",
    "    path = type + \".txt\"\n",
    "    filepath = type + \"_weights.hdf5\"\n",
    "    try: \n",
    "        text = open(path).read().lower()\n",
    "    except UnicodeDecodeError:\n",
    "        import codecs\n",
    "        text = codecs.open(path, encoding='utf-8').read().lower()\n",
    "\n",
    "    print('corpus length:', len(text))\n",
    "    data.num_sen = sum(1 for line in codecs.open(path, encoding='utf-8'))\n",
    "    print('number of sentencase: ', data.num_sen)\n",
    "    data.chars = set(text)\n",
    "    data.words = set(text.lower().split())\n",
    "\n",
    "    print(\"total number of unique words\",len(data.words))\n",
    "    print(\"total number of unique chars\", len(data.chars))\n",
    "\n",
    "    data.word_indices = dict((c, i) for i, c in enumerate(data.words))\n",
    "    data.indices_word = dict((i, c) for i, c in enumerate(data.words))\n",
    "\n",
    "    sentences = []\n",
    "    next_words = []\n",
    "    next_words= []\n",
    "    sentences1 = []\n",
    "    list_words = []\n",
    "    sentences2=[]\n",
    "    \n",
    "    data.list_words=text.lower().split()\n",
    "\n",
    "    for i in range(0,len(data.list_words)-maxlen, step):\n",
    "        sentences2 = ' '.join(data.list_words[i: i + maxlen])\n",
    "        sentences.append(sentences2)\n",
    "        next_words.append((data.list_words[i + maxlen]))\n",
    "    print('nb sequences(length of sentences):', len(sentences))\n",
    "    print(\"length of next_word\",len(next_words))\n",
    "\n",
    "    print('Vectorization...')\n",
    "    data.X = np.zeros((len(sentences), maxlen, len(data.words)), dtype=np.bool)\n",
    "    data.y = np.zeros((len(sentences), len(data.words)), dtype=np.bool)\n",
    "    for i, sentence in enumerate(sentences):\n",
    "        for t, word in enumerate(sentence.split()):\n",
    "            data.X[i, t, data.word_indices[word]] = 1\n",
    "        data.y[i, data.word_indices[next_words[i]]] = 1\n",
    "\n",
    "    print('Build model...')\n",
    "    model = Sequential()\n",
    "    model.add(LSTM(512, return_sequences=True, input_shape=(maxlen, len(data.words))))\n",
    "    model.add(Dropout(0.2))\n",
    "    model.add(LSTM(512, return_sequences=False))\n",
    "    model.add(Dropout(0.2))\n",
    "    model.add(Dense(len(data.words)))\n",
    "    model.add(Activation('softmax'))\n",
    "\n",
    "    model.compile(loss='categorical_crossentropy', optimizer='rmsprop',metrics=['accuracy'])\n",
    "\n",
    "    if os.path.isfile(filepath):\n",
    "       model.load_weights(filepath)\n",
    "    return model"
   ]
  },
  {
   "cell_type": "markdown",
   "metadata": {},
   "source": [
    "### Helper function to sample an index from a probability array"
   ]
  },
  {
   "cell_type": "code",
   "execution_count": 5,
   "metadata": {
    "collapsed": true
   },
   "outputs": [],
   "source": [
    "def sample(a, temperature=1.0):\n",
    "    a = np.log(a) / temperature\n",
    "    dist = np.exp(a)/np.sum(np.exp(a)) \n",
    "    choices = range(len(a)) \n",
    "    return np.random.choice(choices, p=dist)"
   ]
  },
  {
   "cell_type": "markdown",
   "metadata": {},
   "source": [
    "## A function that train the model, we use a checkpoint to save the weights to file because it takes a lot of time to make a full train. we update the file only if the loss get a better score.\n",
    "\n",
    "### We use validation_split=0.05, for taking 5% of the data to be test data. We use batch_size=128, Batch size defines a number of samples that going to be propagated through the network. we found that 128 give us a good result, after some tests. with the limit of running time."
   ]
  },
  {
   "cell_type": "code",
   "execution_count": 6,
   "metadata": {
    "collapsed": true,
    "scrolled": true
   },
   "outputs": [],
   "source": [
    "def train_model(model,data,type,epochs):\n",
    "    filepath = type + \"_weights.hdf5\" \n",
    "    checkpoint = ModelCheckpoint(filepath, monitor='loss', verbose=1, save_best_only=True, mode='min')\n",
    "    callbacks_list = [checkpoint]\n",
    "    fit = model.fit(data.X, data.y, validation_split=0.05, batch_size=128, epochs=epochs, callbacks=callbacks_list, verbose=1)\n",
    "    return fit.history"
   ]
  },
  {
   "cell_type": "markdown",
   "metadata": {},
   "source": [
    "## Function for print plot of how accuracy and loss change over training epochs"
   ]
  },
  {
   "cell_type": "code",
   "execution_count": 7,
   "metadata": {
    "collapsed": true
   },
   "outputs": [],
   "source": [
    "def print_summery(history):\n",
    "    plt.plot(history['acc'])\n",
    "    plt.plot(history['val_acc'])\n",
    "    plt.title('model accuracy')\n",
    "    plt.ylabel('accuracy')\n",
    "    plt.xlabel('epoch')\n",
    "    plt.legend(['train', 'test'], loc='upper left');\n",
    "    plt.show()\n",
    "    \n",
    "    plt.plot(history['loss'])\n",
    "    plt.plot(history['val_loss'])\n",
    "    plt.title('model loss')\n",
    "    plt.ylabel('loss')\n",
    "    plt.xlabel('epoch')\n",
    "    plt.legend(['train', 'test'], loc='upper left');\n",
    "    plt.show()"
   ]
  },
  {
   "cell_type": "markdown",
   "metadata": {},
   "source": [
    "## Function for create sentences. it take a seed from the data, and every time choose what will be the next word."
   ]
  },
  {
   "cell_type": "code",
   "execution_count": 8,
   "metadata": {
    "collapsed": true
   },
   "outputs": [],
   "source": [
    "def create_sentence(data, model, diversity = 1.2, num_of_words = 25, verbose = 1):\n",
    "    start_index = random.randint(0, len(data.list_words) - maxlen - 1)\n",
    "    if verbose == 1:\n",
    "        print(\"Create Sentence..\")\n",
    "        print('Diversity:', diversity)\n",
    "    generated = ''\n",
    "    sentence = data.list_words[start_index: start_index + 10]\n",
    "    seed = ' '.join(sentence)\n",
    "    if verbose == 1:\n",
    "        print('Generating with seed:')\n",
    "        print(seed)       \n",
    "        \n",
    "    for i in range(num_of_words):\n",
    "        x = np.zeros((1, maxlen, len(data.words)))\n",
    "        for t, word in enumerate(sentence):\n",
    "            x[0, t, data.word_indices[word]] = 1.\n",
    "\n",
    "        preds = model.predict(x, verbose=0)[0]\n",
    "        next_index = sample(preds, diversity)\n",
    "        next_word = data.indices_word[next_index]\n",
    "        generated += next_word\n",
    "        generated += \" \"\n",
    "        del sentence[0]\n",
    "        sentence.append(next_word)\n",
    "    if verbose == 1:\n",
    "        print(\"The sentence:\")\n",
    "        print(generated)\n",
    "    return generated"
   ]
  },
  {
   "cell_type": "markdown",
   "metadata": {},
   "source": [
    "# Builds models for man and woman, and get sentences :"
   ]
  },
  {
   "cell_type": "markdown",
   "metadata": {},
   "source": [
    "# Men Model :"
   ]
  },
  {
   "cell_type": "code",
   "execution_count": 27,
   "metadata": {
    "collapsed": true
   },
   "outputs": [],
   "source": [
    "type = \"man\"\n",
    "dataMan = Data()"
   ]
  },
  {
   "cell_type": "markdown",
   "metadata": {},
   "source": [
    "### Build the model: if we have pre-train data, load it"
   ]
  },
  {
   "cell_type": "code",
   "execution_count": 28,
   "metadata": {},
   "outputs": [
    {
     "name": "stdout",
     "output_type": "stream",
     "text": [
      "corpus length: 345609\n",
      "number of sentencase:  18643\n",
      "total number of unique words 12885\n",
      "total number of unique chars 111\n",
      "nb sequences(length of sentences): 23880\n",
      "length of next_word 23880\n",
      "Vectorization...\n",
      "Build model...\n"
     ]
    }
   ],
   "source": [
    "model = build_model(type, dataMan)"
   ]
  },
  {
   "cell_type": "markdown",
   "metadata": {},
   "source": [
    "### Train the model with 15 iteration (we found that 15 give good result, and no so much time. we can increase the number and get better result, but it take more time). we save the best result to file, if we want to load it fast without need to wait for train. "
   ]
  },
  {
   "cell_type": "code",
   "execution_count": 11,
   "metadata": {},
   "outputs": [
    {
     "name": "stdout",
     "output_type": "stream",
     "text": [
      "Train on 22686 samples, validate on 1194 samples\n",
      "Epoch 1/15\n",
      "22656/22686 [============================>.] - ETA: 4s - loss: 7.8258 - acc: 0.0334 \n",
      "Epoch 00001: loss improved from inf to 7.82544, saving model to man_weights.hdf5\n",
      "22686/22686 [==============================] - 3185s 140ms/step - loss: 7.8254 - acc: 0.0334 - val_loss: 7.5410 - val_acc: 0.0243\n",
      "Epoch 2/15\n",
      "22656/22686 [============================>.] - ETA: 4s - loss: 7.5057 - acc: 0.0347 \n",
      "Epoch 00002: loss improved from 7.82544 to 7.50538, saving model to man_weights.hdf5\n",
      "22686/22686 [==============================] - 3108s 137ms/step - loss: 7.5054 - acc: 0.0346 - val_loss: 7.5920 - val_acc: 0.0243\n",
      "Epoch 3/15\n",
      "22656/22686 [============================>.] - ETA: 4s - loss: 7.4281 - acc: 0.0352 \n",
      "Epoch 00003: loss improved from 7.50538 to 7.42825, saving model to man_weights.hdf5\n",
      "22686/22686 [==============================] - 3192s 141ms/step - loss: 7.4282 - acc: 0.0351 - val_loss: 7.5911 - val_acc: 0.0243\n",
      "Epoch 4/15\n",
      "22656/22686 [============================>.] - ETA: 3s - loss: 7.4147 - acc: 0.0351 \n",
      "Epoch 00004: loss improved from 7.42825 to 7.41447, saving model to man_weights.hdf5\n",
      "22686/22686 [==============================] - 2896s 128ms/step - loss: 7.4145 - acc: 0.0351 - val_loss: 7.6188 - val_acc: 0.0243\n",
      "Epoch 5/15\n",
      "22656/22686 [============================>.] - ETA: 3s - loss: 7.3785 - acc: 0.0352 \n",
      "Epoch 00005: loss improved from 7.41447 to 7.37851, saving model to man_weights.hdf5\n",
      "22686/22686 [==============================] - 2720s 120ms/step - loss: 7.3785 - acc: 0.0351 - val_loss: 7.6336 - val_acc: 0.0243\n",
      "Epoch 6/15\n",
      "22656/22686 [============================>.] - ETA: 3s - loss: 7.3433 - acc: 0.0351 \n",
      "Epoch 00006: loss improved from 7.37851 to 7.34382, saving model to man_weights.hdf5\n",
      "22686/22686 [==============================] - 2721s 120ms/step - loss: 7.3438 - acc: 0.0351 - val_loss: 7.6696 - val_acc: 0.0243\n",
      "Epoch 7/15\n",
      "22656/22686 [============================>.] - ETA: 3s - loss: 7.2880 - acc: 0.0351 \n",
      "Epoch 00007: loss improved from 7.34382 to 7.28842, saving model to man_weights.hdf5\n",
      "22686/22686 [==============================] - 2718s 120ms/step - loss: 7.2884 - acc: 0.0351 - val_loss: 7.7374 - val_acc: 0.0243\n",
      "Epoch 8/15\n",
      "22656/22686 [============================>.] - ETA: 3s - loss: 7.2130 - acc: 0.0351 \n",
      "Epoch 00008: loss improved from 7.28842 to 7.21292, saving model to man_weights.hdf5\n",
      "22686/22686 [==============================] - 2714s 120ms/step - loss: 7.2129 - acc: 0.0351 - val_loss: 7.7782 - val_acc: 0.0243\n",
      "Epoch 9/15\n",
      "22656/22686 [============================>.] - ETA: 3s - loss: 7.1207 - acc: 0.0352 \n",
      "Epoch 00009: loss improved from 7.21292 to 7.12132, saving model to man_weights.hdf5\n",
      "22686/22686 [==============================] - 2726s 120ms/step - loss: 7.1213 - acc: 0.0351 - val_loss: 7.8572 - val_acc: 0.0243\n",
      "Epoch 10/15\n",
      "22656/22686 [============================>.] - ETA: 3s - loss: 7.0192 - acc: 0.0354 \n",
      "Epoch 00010: loss improved from 7.12132 to 7.01893, saving model to man_weights.hdf5\n",
      "22686/22686 [==============================] - 2719s 120ms/step - loss: 7.0189 - acc: 0.0354 - val_loss: 7.9384 - val_acc: 0.0235\n",
      "Epoch 11/15\n",
      "22656/22686 [============================>.] - ETA: 3s - loss: 6.9068 - acc: 0.0354 \n",
      "Epoch 00011: loss improved from 7.01893 to 6.90785, saving model to man_weights.hdf5\n",
      "22686/22686 [==============================] - 2718s 120ms/step - loss: 6.9079 - acc: 0.0354 - val_loss: 8.0943 - val_acc: 0.0209\n",
      "Epoch 12/15\n",
      "22656/22686 [============================>.] - ETA: 3s - loss: 6.7811 - acc: 0.0354 \n",
      "Epoch 00012: loss improved from 6.90785 to 6.78210, saving model to man_weights.hdf5\n",
      "22686/22686 [==============================] - 2717s 120ms/step - loss: 6.7821 - acc: 0.0354 - val_loss: 8.0732 - val_acc: 0.0193\n",
      "Epoch 13/15\n",
      "22656/22686 [============================>.] - ETA: 3s - loss: 6.6718 - acc: 0.0360 \n",
      "Epoch 00013: loss improved from 6.78210 to 6.67147, saving model to man_weights.hdf5\n",
      "22686/22686 [==============================] - 2725s 120ms/step - loss: 6.6715 - acc: 0.0361 - val_loss: 8.5029 - val_acc: 0.0235\n",
      "Epoch 14/15\n",
      "22656/22686 [============================>.] - ETA: 3s - loss: 6.5543 - acc: 0.0379 \n",
      "Epoch 00014: loss improved from 6.67147 to 6.55304, saving model to man_weights.hdf5\n",
      "22686/22686 [==============================] - 2725s 120ms/step - loss: 6.5530 - acc: 0.0380 - val_loss: 8.6617 - val_acc: 0.0126\n",
      "Epoch 15/15\n",
      "22656/22686 [============================>.] - ETA: 3s - loss: 6.4286 - acc: 0.0407 \n",
      "Epoch 00015: loss improved from 6.55304 to 6.42823, saving model to man_weights.hdf5\n",
      "22686/22686 [==============================] - 2872s 127ms/step - loss: 6.4282 - acc: 0.0407 - val_loss: 8.5381 - val_acc: 0.0126\n"
     ]
    }
   ],
   "source": [
    "history = train_model(model,dataMan,type,15)"
   ]
  },
  {
   "cell_type": "markdown",
   "metadata": {},
   "source": [
    "### Print plot of how accuracy and loss change over training epochs"
   ]
  },
  {
   "cell_type": "code",
   "execution_count": 12,
   "metadata": {},
   "outputs": [
    {
     "data": {
      "image/png": "[encoded data removed]",
      "text/plain": [
       "<matplotlib.figure.Figure at 0x1df6accc6a0>"
      ]
     },
     "metadata": {},
     "output_type": "display_data"
    },
    {
     "data": {
      "image/png": "[encoded data removed]",
      "text/plain": [
       "<matplotlib.figure.Figure at 0x1e1a70d0550>"
      ]
     },
     "metadata": {},
     "output_type": "display_data"
    }
   ],
   "source": [
    "print_summery(history)"
   ]
  },
  {
   "cell_type": "markdown",
   "metadata": {},
   "source": [
    "### Create sentences, print the first 5 for example"
   ]
  },
  {
   "cell_type": "code",
   "execution_count": 29,
   "metadata": {},
   "outputs": [
    {
     "name": "stdout",
     "output_type": "stream",
     "text": [
      "Example  0 : \n",
      "Create Sentence..\n",
      "Diversity: 1.2\n",
      "Generating with seed:\n",
      "לי ולא הופיע מאז אם הוא שם אותו אנחנו מקבלים\n",
      "The sentence:\n",
      "עד אותה עוד בלי eq? מהוד אל b לתרגול תפסיק ישיבות עכשיו בזה שלהם בדרך האלגוריתם הבנתי יותר מדהים עבודה שאני כלום פשוט ברמה תבור \n",
      "Example  1 : \n",
      "Create Sentence..\n",
      "Diversity: 1.2\n",
      "Generating with seed:\n",
      "בקשת כי אתה לא מבין כלום הוא כל עונה שם\n",
      "The sentence:\n",
      "אתה הראשון איך המחשב זונה זהו עשית שבוע איתך זונות יודע סבבה סהכ הוא שטיות חושב בעיה אלפין הקשר העכבר? אזה הארגומנט באסמבלי תעבודה איתך \n",
      "Example  2 : \n",
      "Create Sentence..\n",
      "Diversity: 1.2\n",
      "Generating with seed:\n",
      "תבדוק בקבוצה אולי מישהו הצליח לפתור את זה אחי בבקשה\n",
      "The sentence:\n",
      "הגדרנו הייתי 12 רשם לנו רוצה אך 30 נסיים (+ חחחחחחחחח רואה יא גם cse שבוע בבית שלהם פחות מצאתי 6 ולחקור סבבה זה אתה \n",
      "Example  3 : \n",
      "Create Sentence..\n",
      "Diversity: 1.2\n",
      "Generating with seed:\n",
      "בסדר זה כמו אצלי אחי זה לא מעניין אחי נמאס\n",
      "The sentence:\n",
      "לפי סיימתי מאד חחחחח לך אותי? סעמק להם תביא ריק אליפות פה בעבודה הראשונה כל לשבת לעבודות ללכת חחחח עונה לבד בליגה אני מריץ כתובת \n",
      "Example  4 : \n",
      "Create Sentence..\n",
      "Diversity: 1.2\n",
      "Generating with seed:\n",
      "הפרסר שעה אני מסיים כולל טסטים סיימתי עד letrec עושה\n",
      "The sentence:\n",
      "למשרד סבבה כלום לא אין מעט מתי רשום להתחיל כמו איפה? 11 שם ppl שלו שלי וחצי לסיים אמר מיליון אותם בני שלחתי זה איפה \n"
     ]
    }
   ],
   "source": [
    "sentences = []\n",
    "for i in range(int(0.3 * dataMan.num_sen)):\n",
    "    if i in range(5):\n",
    "        print(\"Example \" , i, \": \")\n",
    "      else:\n",
    "        sen = create_sentence(dataMan, model, diversity = 1.2, num_of_words = 25, verbose = 0)\n",
    "    sentences.append(sen)  "
   ]
  },
  {
   "cell_type": "markdown",
   "metadata": {},
   "source": [
    "### And save to file"
   ]
  },
  {
   "cell_type": "code",
   "execution_count": 30,
   "metadata": {
    "collapsed": true
   },
   "outputs": [],
   "source": [
    "np.save(file='man_generate.npy', arr = sentences)"
   ]
  },
  {
   "cell_type": "markdown",
   "metadata": {},
   "source": [
    "# Woman Model :"
   ]
  },
  {
   "cell_type": "code",
   "execution_count": 15,
   "metadata": {
    "collapsed": true
   },
   "outputs": [],
   "source": [
    "type = \"woman\"\n",
    "dataWoman = Data()"
   ]
  },
  {
   "cell_type": "markdown",
   "metadata": {},
   "source": [
    "### Build the model: if we have pre-train data, load it"
   ]
  },
  {
   "cell_type": "code",
   "execution_count": 16,
   "metadata": {},
   "outputs": [
    {
     "name": "stdout",
     "output_type": "stream",
     "text": [
      "corpus length: 131205\n",
      "number of sentencase:  5418\n",
      "total number of unique words 6170\n",
      "total number of unique chars 92\n",
      "nb sequences(length of sentences): 8722\n",
      "length of next_word 8722\n",
      "Vectorization...\n",
      "Build model...\n"
     ]
    }
   ],
   "source": [
    "model = build_model(type,dataWoman)"
   ]
  },
  {
   "cell_type": "markdown",
   "metadata": {},
   "source": [
    "### Train the model with 15 iteration (we found that 15 give good result, and no so much time. we can increase the number and get better result, but it take more time). we save the best result to file, if we want to load it fast without need to wait for train. "
   ]
  },
  {
   "cell_type": "code",
   "execution_count": 17,
   "metadata": {},
   "outputs": [
    {
     "name": "stdout",
     "output_type": "stream",
     "text": [
      "Train on 8285 samples, validate on 437 samples\n",
      "Epoch 1/15\n",
      "8192/8285 [============================>.] - ETA: 8s - loss: 7.5990 - acc: 0.0264 \n",
      "Epoch 00001: loss improved from inf to 7.59855, saving model to woman_weights.hdf5\n",
      "8285/8285 [==============================] - 770s 93ms/step - loss: 7.5985 - acc: 0.0264 - val_loss: 7.0026 - val_acc: 0.0252\n",
      "Epoch 2/15\n",
      "8192/8285 [============================>.] - ETA: 8s - loss: 7.1164 - acc: 0.0293 \n",
      "Epoch 00002: loss improved from 7.59855 to 7.12016, saving model to woman_weights.hdf5\n",
      "8285/8285 [==============================] - 749s 90ms/step - loss: 7.1202 - acc: 0.0292 - val_loss: 7.0609 - val_acc: 0.0252\n",
      "Epoch 3/15\n",
      "8192/8285 [============================>.] - ETA: 8s - loss: 7.0535 - acc: 0.0300 \n",
      "Epoch 00003: loss improved from 7.12016 to 7.05769, saving model to woman_weights.hdf5\n",
      "8285/8285 [==============================] - 736s 89ms/step - loss: 7.0577 - acc: 0.0301 - val_loss: 7.1116 - val_acc: 0.0252\n",
      "Epoch 4/15\n",
      "8192/8285 [============================>.] - ETA: 7s - loss: 7.0295 - acc: 0.0298 \n",
      "Epoch 00004: loss improved from 7.05769 to 7.02799, saving model to woman_weights.hdf5\n",
      "8285/8285 [==============================] - 700s 85ms/step - loss: 7.0280 - acc: 0.0299 - val_loss: 7.1576 - val_acc: 0.0252\n",
      "Epoch 5/15\n",
      "8192/8285 [============================>.] - ETA: 7s - loss: 7.0955 - acc: 0.0294 \n",
      "Epoch 00005: loss did not improve\n",
      "8285/8285 [==============================] - 709s 86ms/step - loss: 7.0980 - acc: 0.0295 - val_loss: 7.1745 - val_acc: 0.0252\n",
      "Epoch 6/15\n",
      "8192/8285 [============================>.] - ETA: 8s - loss: 7.0045 - acc: 0.0302 \n",
      "Epoch 00006: loss improved from 7.02799 to 7.00731, saving model to woman_weights.hdf5\n",
      "8285/8285 [==============================] - 733s 89ms/step - loss: 7.0073 - acc: 0.0301 - val_loss: 7.1772 - val_acc: 0.0252\n",
      "Epoch 7/15\n",
      "8192/8285 [============================>.] - ETA: 7s - loss: 6.9912 - acc: 0.0299 \n",
      "Epoch 00007: loss improved from 7.00731 to 6.99314, saving model to woman_weights.hdf5\n",
      "8285/8285 [==============================] - 709s 86ms/step - loss: 6.9931 - acc: 0.0301 - val_loss: 7.2349 - val_acc: 0.0252\n",
      "Epoch 8/15\n",
      "8192/8285 [============================>.] - ETA: 7s - loss: 6.9851 - acc: 0.0303 \n",
      "Epoch 00008: loss improved from 6.99314 to 6.98830, saving model to woman_weights.hdf5\n",
      "8285/8285 [==============================] - 729s 88ms/step - loss: 6.9883 - acc: 0.0301 - val_loss: 7.2255 - val_acc: 0.0252\n",
      "Epoch 9/15\n",
      "8192/8285 [============================>.] - ETA: 7s - loss: 6.9793 - acc: 0.0302 \n",
      "Epoch 00009: loss improved from 6.98830 to 6.98046, saving model to woman_weights.hdf5\n",
      "8285/8285 [==============================] - 714s 86ms/step - loss: 6.9805 - acc: 0.0301 - val_loss: 7.2542 - val_acc: 0.0252\n",
      "Epoch 10/15\n",
      "8192/8285 [============================>.] - ETA: 6s - loss: 6.9740 - acc: 0.0303 \n",
      "Epoch 00010: loss improved from 6.98046 to 6.97337, saving model to woman_weights.hdf5\n",
      "8285/8285 [==============================] - 632s 76ms/step - loss: 6.9734 - acc: 0.0301 - val_loss: 7.2334 - val_acc: 0.0252\n",
      "Epoch 11/15\n",
      "8192/8285 [============================>.] - ETA: 6s - loss: 6.9756 - acc: 0.0302 \n",
      "Epoch 00011: loss did not improve\n",
      "8285/8285 [==============================] - 573s 69ms/step - loss: 6.9756 - acc: 0.0301 - val_loss: 7.2757 - val_acc: 0.0252\n",
      "Epoch 12/15\n",
      "8192/8285 [============================>.] - ETA: 6s - loss: 6.9597 - acc: 0.0302 \n",
      "Epoch 00012: loss improved from 6.97337 to 6.95581, saving model to woman_weights.hdf5\n",
      "8285/8285 [==============================] - 625s 75ms/step - loss: 6.9558 - acc: 0.0301 - val_loss: 7.3581 - val_acc: 0.0252\n",
      "Epoch 13/15\n",
      "8192/8285 [============================>.] - ETA: 6s - loss: 6.9247 - acc: 0.0302 \n",
      "Epoch 00013: loss improved from 6.95581 to 6.92417, saving model to woman_weights.hdf5\n",
      "8285/8285 [==============================] - 588s 71ms/step - loss: 6.9242 - acc: 0.0301 - val_loss: 7.2711 - val_acc: 0.0252\n",
      "Epoch 14/15\n",
      "8192/8285 [============================>.] - ETA: 6s - loss: 6.8638 - acc: 0.0302 \n",
      "Epoch 00014: loss improved from 6.92417 to 6.86096, saving model to woman_weights.hdf5\n",
      "8285/8285 [==============================] - 574s 69ms/step - loss: 6.8610 - acc: 0.0301 - val_loss: 7.2772 - val_acc: 0.0252\n",
      "Epoch 15/15\n",
      "8192/8285 [============================>.] - ETA: 6s - loss: 6.8348 - acc: 0.0295 \n",
      "Epoch 00015: loss improved from 6.86096 to 6.83757, saving model to woman_weights.hdf5\n",
      "8285/8285 [==============================] - 589s 71ms/step - loss: 6.8376 - acc: 0.0295 - val_loss: 7.3224 - val_acc: 0.0252\n"
     ]
    }
   ],
   "source": [
    "history = train_model(model,dataWoman,type,15)"
   ]
  },
  {
   "cell_type": "markdown",
   "metadata": {},
   "source": [
    "### Print plot of how accuracy and loss change over training epochs"
   ]
  },
  {
   "cell_type": "code",
   "execution_count": 18,
   "metadata": {},
   "outputs": [
    {
     "data": {
      "image/png": "[encoded data removed]",
      "text/plain": [
       "<matplotlib.figure.Figure at 0x1df0c1ad358>"
      ]
     },
     "metadata": {},
     "output_type": "display_data"
    },
    {
     "data": {
      "image/png": "[encoded data removed]",
      "text/plain": [
       "<matplotlib.figure.Figure at 0x1e1a721a6d8>"
      ]
     },
     "metadata": {},
     "output_type": "display_data"
    }
   ],
   "source": [
    "print_summery(history)"
   ]
  },
  {
   "cell_type": "markdown",
   "metadata": {},
   "source": [
    "### Create sentences, print the first 5 for example"
   ]
  },
  {
   "cell_type": "code",
   "execution_count": 22,
   "metadata": {},
   "outputs": [
    {
     "name": "stdout",
     "output_type": "stream",
     "text": [
      "Example  0 : \n",
      "Create Sentence..\n",
      "Diversity: 1.2\n",
      "Generating with seed:\n",
      "אתה הולך למשחק היום? בבאר שבע? תתלבש טוב נורא קר\n",
      "The sentence:\n",
      "יקר.אם בסופר בכשרות עכשיו הצפי, אתה מקיף דרכי תשמור שבוע 2 עלאק אוקי ציונים? המבחן והכרנו ואיזה שיעור יהיה בקטע נסעו מחר ... יד שניה \n",
      "Example  1 : \n",
      "Create Sentence..\n",
      "Diversity: 1.2\n",
      "Generating with seed:\n",
      "וחצי אז אוכל להגיע רק ב5 מה נשמע? טוב.מה חדש?\n",
      "The sentence:\n",
      "הלפטופ לא היא ותלכו אין מה היום.. 30 אתם?זה נוכל ואני לריסה.אני להוריד לא ההיא 13 סבבה של יפה.מתי הכל בשמחה, הי, אבל הולך קנסות \n",
      "Example  2 : \n",
      "Create Sentence..\n",
      "Diversity: 1.2\n",
      "Generating with seed:\n",
      "המטלות האלה אין לי סבלנות לזה ממשש אבל מזה איך\n",
      "The sentence:\n",
      "דרכי? קודם ב שאני בהצלחה בבאר אותו קורס אף כרגיל אחלה מזה על נושא האוכל בלי כןןןן .אני שנשתה בחוץ היית .נמצא סגרנו עובדים.יש חם \n",
      "Example  3 : \n",
      "Create Sentence..\n",
      "Diversity: 1.2\n",
      "Generating with seed:\n",
      "לי חתימה מתי רואים אותך השבוע ?איזה יום נוח לך?\n",
      "The sentence:\n",
      "מוכנה עובדת איתך נלך תבדקו התשלום? הכנת? וואי או בינתיים ולא מסכן.מחר בשבילך היי.ניפגש תגיע יבוא בבית איתה היום? מספיק לקחנו מודבקים וקר עובדת איתנו \n",
      "Example  4 : \n",
      "Create Sentence..\n",
      "Diversity: 1.2\n",
      "Generating with seed:\n",
      "את הדלת אבל הוא הורס להם דברים .חכה שירגע שבת\n",
      "The sentence:\n",
      "האם הכל יחד אנשים פנויה בחופשה? בפייסבוק (קובץ הבא לקחת? שהיום שעות. קבענו? אצלכם? משהו דעתך? אצלו בערב להכניס סאן-ג'ובני !אוהבת השבוע נחום הללייי חטף \n"
     ]
    }
   ],
   "source": [
    "sentences = []\n",
    "for i in range(int(0.3 * dataWoman.num_sen)):\n",
    "    if i in range(5):\n",
    "        print(\"Example \" , i, \": \")\n",
    "        sen = create_sentence(dataWoman, model, diversity = 1.2, num_of_words = 25, verbose = 1)\n",
    "    else:\n",
    "        sen = create_sentence(dataWoman, model, diversity = 1.2, num_of_words = 25, verbose = 0)\n",
    "    sentences.append(sen)  "
   ]
  },
  {
   "cell_type": "markdown",
   "metadata": {},
   "source": [
    "### And save to file"
   ]
  },
  {
   "cell_type": "code",
   "execution_count": 24,
   "metadata": {
    "collapsed": true
   },
   "outputs": [],
   "source": [
    "np.save(file='woman_generate.npy', arr = sentences)"
   ]
  }
 ],
 "metadata": {
  "kernelspec": {
   "display_name": "Python 3",
   "language": "python",
   "name": "python3"
  },
  "language_info": {
   "codemirror_mode": {
    "name": "ipython",
    "version": 3
   },
   "file_extension": ".py",
   "mimetype": "text/x-python",
   "name": "python",
   "nbconvert_exporter": "python",
   "pygments_lexer": "ipython3",
   "version": "3.6.3"
  }
 },
 "nbformat": 4,
 "nbformat_minor": 2
}
