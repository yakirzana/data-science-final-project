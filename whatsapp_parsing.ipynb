{
 "cells": [
  {
   "cell_type": "code",
   "execution_count": 1,
   "metadata": {
    "collapsed": true
   },
   "outputs": [],
   "source": [
    "import codecs\n",
    "import re,os,pickle,json\n",
    "import time\n",
    "import pandas as pd\n",
    "import dateutil\n",
    "import numpy as np"
   ]
  },
  {
   "cell_type": "code",
   "execution_count": 2,
   "metadata": {
    "collapsed": true
   },
   "outputs": [],
   "source": [
    "def find_msgs_in_dir(directory,msgs,senders):\n",
    "    for filename in os.listdir(directory):\n",
    "        if filename.endswith(\".txt\"): \n",
    "            find_msgs(directory+\"/\"+filename,msgs,senders)   "
   ]
  },
  {
   "cell_type": "code",
   "execution_count": 3,
   "metadata": {
    "collapsed": true
   },
   "outputs": [],
   "source": [
    "def find_msgs(filename,msg_list,senders_name):\n",
    "    msgs_to_ignore = [\"<מדיה הושמטה>\",\"<Media omitted>\"]\n",
    "    file = codecs.open(filename,\"r\",\"utf-8\")\n",
    "    emoji_pattern = re.compile(\"[\"\n",
    "        u\"\\U00010000-\\U0001F9EF\"  # emoticons\n",
    "        u\"\\U0001F300-\\U0001F5FF\"  # symbols & pictographs\n",
    "        u\"\\U0001F680-\\U0001F6FF\"  # transport & map symbols\n",
    "        u\"\\U0001F1E0-\\U0001F1FF\"  # flags (iOS)\n",
    "                           \"]+\", flags=re.UNICODE)\n",
    "    line = file.readline()\n",
    "    while line:\n",
    "        if (contains(line, senders_name)):\n",
    "            line = file.readline()\n",
    "            continue\n",
    "        line = emoji_pattern.sub(r'', line)\n",
    "        temp = line.split(\" \",1)\n",
    "        msg_date, sep, msg = line.partition(\": \")\n",
    "        msg = msg.rstrip()\n",
    "        if(not(contains(msg, msgs_to_ignore)) and msg != \"\"):\n",
    "            msg_list.append(msg)\n",
    "        line = file.readline()"
   ]
  },
  {
   "cell_type": "code",
   "execution_count": 4,
   "metadata": {
    "collapsed": true
   },
   "outputs": [],
   "source": [
    "def contains(msg,arr):\n",
    "    for str in arr:\n",
    "        if(str in msg):\n",
    "            return 1\n",
    "    return 0"
   ]
  },
  {
   "cell_type": "code",
   "execution_count": 5,
   "metadata": {
    "collapsed": true
   },
   "outputs": [],
   "source": [
    "def dump_to_file(filename,arr):\n",
    "    with codecs.open(filename,\"w\",\"utf-8\") as file:\n",
    "        for s in arr:\n",
    "            file.write(s + \"\\n\")\n",
    "    #np.save(file='achiad.npy', arr = arr)"
   ]
  },
  {
   "cell_type": "code",
   "execution_count": 6,
   "metadata": {
    "collapsed": true
   },
   "outputs": [],
   "source": [
    "msgsBoys = []\n",
    "msgsGirls = []\n",
    "girlsDir = \"data/women\"\n",
    "boysDir = \"data/man\"\n",
    "senders = [\"Yakir Zana:\",\"erez bashari:\"]\n",
    "\n",
    "find_msgs_in_dir(boysDir,msgsBoys,senders)\n",
    "find_msgs_in_dir(girlsDir,msgsGirls,senders)"
   ]
  },
  {
   "cell_type": "code",
   "execution_count": 7,
   "metadata": {
    "collapsed": true
   },
   "outputs": [],
   "source": [
    "dump_to_file(\"man.txt\",msgsBoys)\n",
    "dump_to_file(\"women.txt\",msgsGirls)"
   ]
  }
 ],
 "metadata": {
  "kernelspec": {
   "display_name": "Python 3",
   "language": "python",
   "name": "python3"
  },
  "language_info": {
   "codemirror_mode": {
    "name": "ipython",
    "version": 3
   },
   "file_extension": ".py",
   "mimetype": "text/x-python",
   "name": "python",
   "nbconvert_exporter": "python",
   "pygments_lexer": "ipython3",
   "version": "3.6.3"
  }
 },
 "nbformat": 4,
 "nbformat_minor": 2
}
